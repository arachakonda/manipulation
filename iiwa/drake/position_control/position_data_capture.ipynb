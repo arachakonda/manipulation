{
 "cells": [
  {
   "cell_type": "code",
   "execution_count": 1,
   "id": "f1c7ef27",
   "metadata": {},
   "outputs": [],
   "source": [
    "import numpy as np\n",
    "from IPython.display import clear_output, display\n",
    "from pydrake.all import (AbstractValue, AddMultibodyPlantSceneGraph,\n",
    "                         DiagramBuilder, JointSliders, LeafSystem,\n",
    "                         MeshcatVisualizer, Parser, RigidTransform,\n",
    "                         RollPitchYaw, StartMeshcat)\n",
    "\n",
    "from manipulation import FindResource, running_as_notebook\n",
    "from manipulation.scenarios import AddMultibodyTriad, AddPackagePaths"
   ]
  },
  {
   "cell_type": "code",
   "execution_count": 2,
   "id": "164f01f4",
   "metadata": {},
   "outputs": [
    {
     "name": "stderr",
     "output_type": "stream",
     "text": [
      "INFO:drake:Meshcat listening for connections at http://localhost:7000\n"
     ]
    }
   ],
   "source": [
    "# Start the visualizer.\n",
    "meshcat = StartMeshcat()"
   ]
  },
  {
   "cell_type": "code",
   "execution_count": 3,
   "id": "87771ec8",
   "metadata": {},
   "outputs": [],
   "source": [
    "pose_translation = \"\"\n",
    "pose_rotation = \"\"\n",
    "\n",
    "class PrintPose(LeafSystem): #inheriting the leafs\n",
    "    def __init__(self, body_index):\n",
    "        LeafSystem.__init__(self)\n",
    "        self._body_index = body_index\n",
    "        self.DeclareAbstractInputPort(\"body_poses\",\n",
    "                                    AbstractValue.Make([RigidTransform()]))\n",
    "        self.DeclareForcedPublishEvent(self.Publish)\n",
    "        self.system_context = self.AllocateContext()\n",
    "        print(\"system context\")\n",
    "        print(self.system_context)\n",
    "\n",
    "    def Publish(self, context):\n",
    "        print(\"context\")\n",
    "        print(context)\n",
    "        pose = self.get_input_port().Eval(context)[self._body_index]\n",
    "        clear_output(wait=False)\n",
    "        pose_translation =  np.array2string(\n",
    "            pose.translation(), formatter={\n",
    "                'float': lambda x: \"{:3.2f}\".format(x)})\n",
    "        print(\"gripper position (m): \" + pose_translation)\n",
    "        pose_rotation = np.array2string(RollPitchYaw(pose.rotation()).vector(),\n",
    "                         formatter={'float': lambda x: \"{:3.2f}\".format(x)})\n",
    "        print(\"gripper roll-pitch-yaw (rad):\" + pose_rotation)\n",
    "\n",
    "def gripper_forward_kinematics_example():\n",
    "    builder = DiagramBuilder()\n",
    "\n",
    "    plant, scene_graph = AddMultibodyPlantSceneGraph(builder, time_step=0)\n",
    "    parser = Parser(plant)\n",
    "    AddPackagePaths(parser)\n",
    "    parser.AddAllModelsFromFile(FindResource(\"models/iiwa_and_wsg.dmd.yaml\"))\n",
    "    plant.Finalize()\n",
    "\n",
    "    # Draw the frames\n",
    "    for body_name in [\"iiwa_link_1\", \"iiwa_link_2\", \"iiwa_link_3\", \"iiwa_link_4\", \"iiwa_link_5\", \"iiwa_link_6\", \"iiwa_link_7\", \"body\"]:\n",
    "        AddMultibodyTriad(plant.GetFrameByName(body_name), scene_graph)\n",
    "\n",
    "    meshcat.Delete()\n",
    "    meshcat.DeleteAddedControls()\n",
    "    visualizer = MeshcatVisualizer.AddToBuilder(\n",
    "        builder, scene_graph.get_query_output_port(), meshcat)\n",
    "\n",
    "    wsg = plant.GetModelInstanceByName(\"wsg\")\n",
    "    gripper = plant.GetBodyByName(\"body\", wsg)\n",
    "    ppob = PrintPose(gripper.index())\n",
    "    print_pose = builder.AddSystem(ppob)\n",
    "    builder.Connect(plant.get_body_poses_output_port(),\n",
    "                    print_pose.get_input_port())\n",
    "\n",
    "    default_interactive_timeout = None if running_as_notebook else 1.0\n",
    "    sliders = builder.AddSystem(JointSliders(meshcat, plant))\n",
    "    diagram = builder.Build()\n",
    "    \n",
    "    \n",
    "    sliders.Run(diagram, default_interactive_timeout)\n",
    "    meshcat.DeleteAddedControls()\n",
    "        \n"
   ]
  },
  {
   "cell_type": "code",
   "execution_count": null,
   "id": "ea532bd5",
   "metadata": {},
   "outputs": [
    {
     "name": "stdout",
     "output_type": "stream",
     "text": [
      "gripper position (m): [0.08 -0.38 0.91]\n",
      "gripper roll-pitch-yaw (rad):[-2.39 0.31 -0.14]\n",
      "context\n",
      "::_::__main__.PrintPose@00000000034cbd30 Context\n",
      "-------------------------------------------------\n",
      "Time: 0\n",
      "\n"
     ]
    }
   ],
   "source": [
    "gripper_forward_kinematics_example()"
   ]
  },
  {
   "cell_type": "code",
   "execution_count": null,
   "id": "96ad67f6",
   "metadata": {},
   "outputs": [],
   "source": [
    "gripper_forward_kinematics_example()"
   ]
  },
  {
   "cell_type": "code",
   "execution_count": null,
   "id": "639a9147",
   "metadata": {},
   "outputs": [],
   "source": [
    "class ninja:\n",
    "    def __init__(self,style):\n",
    "        self.ninja_style = style\n",
    "\n"
   ]
  },
  {
   "cell_type": "code",
   "execution_count": null,
   "id": "712e71c0",
   "metadata": {},
   "outputs": [],
   "source": [
    "n = ninja(2)"
   ]
  },
  {
   "cell_type": "code",
   "execution_count": null,
   "id": "f5b2fac9",
   "metadata": {},
   "outputs": [],
   "source": [
    "n.ninja_style"
   ]
  },
  {
   "cell_type": "code",
   "execution_count": null,
   "id": "6fb53711",
   "metadata": {},
   "outputs": [],
   "source": []
  }
 ],
 "metadata": {
  "kernelspec": {
   "display_name": "Python 3 (ipykernel)",
   "language": "python",
   "name": "python3"
  },
  "language_info": {
   "codemirror_mode": {
    "name": "ipython",
    "version": 3
   },
   "file_extension": ".py",
   "mimetype": "text/x-python",
   "name": "python",
   "nbconvert_exporter": "python",
   "pygments_lexer": "ipython3",
   "version": "3.8.10"
  }
 },
 "nbformat": 4,
 "nbformat_minor": 5
}
