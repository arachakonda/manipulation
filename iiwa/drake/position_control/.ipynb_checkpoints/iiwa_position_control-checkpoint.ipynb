{
 "cells": [
  {
   "cell_type": "code",
   "execution_count": 1,
   "id": "daeb6bb5",
   "metadata": {},
   "outputs": [],
   "source": [
    "import numpy as np\n",
    "import pydot\n",
    "from IPython.display import HTML, SVG, display\n",
    "from pydrake.all import (AddMultibodyPlantSceneGraph, DiagramBuilder,\n",
    "                         FindResourceOrThrow, GenerateHtml,\n",
    "                         InverseDynamicsController, MeshcatVisualizer,\n",
    "                         MeshcatVisualizerParams, MultibodyPlant, Parser,\n",
    "                         Simulator, StartMeshcat)\n",
    "\n",
    "from manipulation import running_as_notebook"
   ]
  },
  {
   "cell_type": "code",
   "execution_count": 2,
   "id": "fdd1a612",
   "metadata": {},
   "outputs": [],
   "source": [
    "filename = \"drake/manipulation/models/iiwa_description/sdf/iiwa14_no_collision.sdf\"\n",
    "base_link_frame_name = \"iiwa_link_0\"\n",
    "step = 1e-4\n",
    "position_vector = [0.1, 0, 0.2, 0.2, 1, 0, 0.1]"
   ]
  },
  {
   "cell_type": "code",
   "execution_count": 3,
   "id": "7c9290cb",
   "metadata": {
    "scrolled": false
   },
   "outputs": [
    {
     "name": "stderr",
     "output_type": "stream",
     "text": [
      "INFO:drake:Meshcat listening for connections at http://localhost:7000\n"
     ]
    }
   ],
   "source": [
    "#start the visualizer\n",
    "meshcat = StartMeshcat()"
   ]
  },
  {
   "cell_type": "code",
   "execution_count": 4,
   "id": "bf878897",
   "metadata": {},
   "outputs": [],
   "source": [
    "class SimSetup:\n",
    "    def __init__(self, step, filename, base_link_frame_name, meshcat):\n",
    "        self.step_size = step\n",
    "        self.base_link_name = base_link_frame_name\n",
    "        self.meshcat = meshcat\n",
    "    def create_builder(self):\n",
    "        #create a diagram builder object\n",
    "        builder = DiagramBuilder()\n",
    "        return builder\n",
    "    def create_plant_scene_graph(self,builder):\n",
    "        #plant and scene graph pointers for the newly created multibody plant and scene graph returned\n",
    "        #they are added to the diagram\n",
    "        #Makes a new MultibodyPlant with discrete update period time_step and adds it to a diagram builder together with the provided SceneGraph instance, connecting the geometry ports.\n",
    "        plant, scene_graph = AddMultibodyPlantSceneGraph(builder, time_step=self.step_size)    \n",
    "        return plant, scene_graph\n",
    "    \n",
    "    def create_model(self,plant, scene_graph, filename):\n",
    "        model = Parser(plant, scene_graph).AddModelFromFile(FindResourceOrThrow(filename))\n",
    "        plant.WeldFrames(plant.world_frame(), plant.GetFrameByName(self.base_link_name))\n",
    "        plant.Finalize()\n",
    "        return model\n",
    "    \n",
    "    def add_meshcat2builder(self,builder, scene_graph, meshcat):\n",
    "        visualizer = MeshcatVisualizer.AddToBuilder(builder, scene_graph, meshcat)\n",
    "        return visualizer\n",
    "    \n",
    "    def setup(self):\n",
    "        builder = self.create_builder()\n",
    "        plant, scene_graph = self.create_plant_scene_graph(builder)\n",
    "        model = self.create_model(plant, scene_graph,  filename)\n",
    "        visualizer = self.add_meshcat2builder(builder, scene_graph,self.meshcat)\n",
    "        \n",
    "        return builder, plant, scene_graph, model, visualizer\n",
    "    \n",
    "    \n",
    "class iiwaRobot:\n",
    "    def __init__(self,builder, plant, scene_graph, model, visualizer):\n",
    "        self.builder = builder\n",
    "        self.plant = plant\n",
    "        self.scene_graph = scene_graph\n",
    "        self.model = model\n",
    "        self.visualizer = visualizer\n",
    "    \n",
    "    def iiwa_controller(self):\n",
    "        Kp = np.full(7, 100)\n",
    "        Ki = 2 * np.sqrt(Kp)\n",
    "        Kd = np.full(7, 1)\n",
    "        iiwa_controller = self.builder.AddSystem(InverseDynamicsController(self.plant, Kp, Ki, Kd, False))\n",
    "        iiwa_controller.set_name(\"iiwa_controller\");\n",
    "        #create feedback loop\n",
    "        #plant state output to controller input\n",
    "        #controller output to plant actuation input\n",
    "        self.builder.Connect(self.plant.get_state_output_port(self.model),\n",
    "                        iiwa_controller.get_input_port_estimated_state())\n",
    "        self.builder.Connect(iiwa_controller.get_output_port_control(),\n",
    "                        self.plant.get_actuation_input_port())\n",
    "\n",
    "        return iiwa_controller\n",
    "    \n",
    "    def iiwa_create_diagram(self):\n",
    "        #create a diagram out of the wired systems\n",
    "        diagram = self.builder.Build() \n",
    "        return diagram\n",
    "    \n",
    "    def iiwa_position_set(self, diagram, iiwa_controller, position_vector):    \n",
    "        #extract context from the diagram\n",
    "        context = diagram.CreateDefaultContext()\n",
    "        #extract plant context from the full context\n",
    "        plant_context = self.plant.GetMyMutableContextFromRoot(context)\n",
    "        q0 = q0 = np.array(position_vector)\n",
    "        x0 = np.hstack((q0, 0*q0))\n",
    "        plant.SetPositions(plant_context, q0)\n",
    "        iiwa_controller.GetInputPort('desired_state').FixValue(iiwa_controller.GetMyMutableContextFromRoot(context), x0)\n",
    "        return context\n",
    "    \n",
    "    def iiwa_animate(self, diagram, context):\n",
    "        simulator = Simulator(diagram, context)\n",
    "        simulator.set_target_realtime_rate(1.0)\n",
    "        self.visualizer.StartRecording()\n",
    "        simulator.AdvanceTo(5)\n",
    "        self.visualizer.StopRecording()\n",
    "        self.visualizer.PublishRecording()\n",
    "\n",
    "    "
   ]
  },
  {
   "cell_type": "code",
   "execution_count": 5,
   "id": "0bab5451",
   "metadata": {},
   "outputs": [],
   "source": [
    "simob = SimSetup(step, filename, base_link_frame_name, meshcat)\n",
    "builder, plant, scene_graph, model, visualizer = simob.setup()"
   ]
  },
  {
   "cell_type": "code",
   "execution_count": 6,
   "id": "726b21b8",
   "metadata": {},
   "outputs": [],
   "source": [
    "iiwa = iiwaRobot(builder, plant, scene_graph, model, visualizer)\n",
    "iiwa_controller = iiwa.iiwa_controller()\n",
    "diagram = iiwa.iiwa_create_diagram()\n",
    "context = iiwa.iiwa_position_set(diagram, iiwa_controller, position_vector)\n",
    "iiwa.iiwa_animate(diagram,context)"
   ]
  },
  {
   "cell_type": "code",
   "execution_count": 7,
   "id": "f66e884a",
   "metadata": {},
   "outputs": [],
   "source": [
    "position_vector = [1, 0, 1, 1.3, 1.5, 0.5, 0.3]\n",
    "context = iiwa.iiwa_position_set(diagram, iiwa_controller, position_vector)\n",
    "iiwa.iiwa_animate(diagram,context)"
   ]
  },
  {
   "cell_type": "code",
   "execution_count": null,
   "id": "b92d85c4",
   "metadata": {},
   "outputs": [],
   "source": []
  }
 ],
 "metadata": {
  "kernelspec": {
   "display_name": "Python 3 (ipykernel)",
   "language": "python",
   "name": "python3"
  },
  "language_info": {
   "codemirror_mode": {
    "name": "ipython",
    "version": 3
   },
   "file_extension": ".py",
   "mimetype": "text/x-python",
   "name": "python",
   "nbconvert_exporter": "python",
   "pygments_lexer": "ipython3",
   "version": "3.8.10"
  }
 },
 "nbformat": 4,
 "nbformat_minor": 5
}
