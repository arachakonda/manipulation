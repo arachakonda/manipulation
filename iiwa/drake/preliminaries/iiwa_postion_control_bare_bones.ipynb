{
 "cells": [
  {
   "cell_type": "code",
   "execution_count": 1,
   "id": "19ba9b9a",
   "metadata": {},
   "outputs": [],
   "source": [
    "import numpy as np\n",
    "import pydot\n",
    "from IPython.display import HTML, SVG, display\n",
    "from pydrake.all import (AddMultibodyPlantSceneGraph, DiagramBuilder,\n",
    "                         FindResourceOrThrow, GenerateHtml,\n",
    "                         InverseDynamicsController, MeshcatVisualizer,\n",
    "                         MeshcatVisualizerParams, MultibodyPlant, Parser,\n",
    "                         Simulator, StartMeshcat)\n",
    "\n",
    "from manipulation import running_as_notebook"
   ]
  },
  {
   "cell_type": "code",
   "execution_count": 2,
   "id": "427482b4",
   "metadata": {},
   "outputs": [
    {
     "name": "stderr",
     "output_type": "stream",
     "text": [
      "INFO:drake:Meshcat listening for connections at http://localhost:7001\n"
     ]
    }
   ],
   "source": [
    "#start the visualizer\n",
    "meshcat = StartMeshcat()"
   ]
  },
  {
   "cell_type": "code",
   "execution_count": 3,
   "id": "d72ed4b8",
   "metadata": {},
   "outputs": [],
   "source": [
    "filename = \"drake/manipulation/models/iiwa_description/sdf/iiwa14_no_collision.sdf\"\n",
    "def create_builder():\n",
    "    #create a diagram builder object\n",
    "    builder = DiagramBuilder()\n",
    "    return builder\n",
    "builder = create_builder()\n",
    "\n",
    "def create_plant_scene_graph(builder):\n",
    "    #plant and scene graph pointers for the newly created multibody plant and scene graph returned\n",
    "    #they are added to the diagram\n",
    "    #Makes a new MultibodyPlant with discrete update period time_step and adds it to a diagram builder together with the provided SceneGraph instance, connecting the geometry ports.\n",
    "    plant, scene_graph = AddMultibodyPlantSceneGraph(builder, time_step=1e-4)    \n",
    "    return plant, scene_graph\n",
    "plant, scene_graph = create_plant_scene_graph(builder)\n",
    "\n",
    "\n",
    "def create_iiwa_model(plant, scene_graph, filename):\n",
    "    iiwa_model = Parser(plant, scene_graph).AddModelFromFile(FindResourceOrThrow(filename))\n",
    "    plant.WeldFrames(plant.world_frame(), plant.GetFrameByName(\"iiwa_link_0\"))\n",
    "    plant.Finalize()\n",
    "    return iiwa_model\n",
    "\n",
    "\n",
    "iiwa_model = create_iiwa_model(plant, scene_graph, filename)\n",
    "\n",
    "\n",
    "position_vector = [-1.57, 0.1, 0, -1.2, 0, 1.6, 0]\n",
    "    "
   ]
  },
  {
   "cell_type": "code",
   "execution_count": 4,
   "id": "87948ad8",
   "metadata": {},
   "outputs": [],
   "source": [
    "def add_meshcat2builder(builder, scene_graph, meshcat):\n",
    "    visualizer = MeshcatVisualizer.AddToBuilder(builder, scene_graph, meshcat)\n",
    "    return visualizer\n",
    "\n",
    "visualizer = add_meshcat2builder(builder, scene_graph, meshcat)"
   ]
  },
  {
   "cell_type": "code",
   "execution_count": 5,
   "id": "72d59f38",
   "metadata": {},
   "outputs": [],
   "source": [
    "def iiwa_position_set(builder, plant, position_vector):    \n",
    "    #create a diagram out of the wired systems\n",
    "    diagram = builder.Build()    \n",
    "    #extract context from the diagram\n",
    "    context = diagram.CreateDefaultContext()\n",
    "    #extract plant context from the full context\n",
    "    plant_context = plant.GetMyMutableContextFromRoot(context)\n",
    "    q0 = q0 = np.array(position_vector)\n",
    "    x0 = np.hstack((q0, 0*q0))\n",
    "    plant.SetPositions(plant_context, q0)\n",
    "    #iiwa_controller.GetInputPort('desired_state').FixValue(iiwa_controller.GetMyMutableContextFromRoot(context), x0)\n",
    "    plant.get_actuation_input_port().FixValue(plant_context, np.zeros(7))\n",
    "    return diagram,context\n",
    "\n",
    "diagram,context = iiwa_position_set(builder, plant, position_vector)"
   ]
  },
  {
   "cell_type": "code",
   "execution_count": 5,
   "id": "48b19d51",
   "metadata": {},
   "outputs": [],
   "source": [
    "def iiwa_controller(builder, plant):\n",
    "    Kp = np.full(7, 10)\n",
    "    Ki = 2 * np.sqrt(Kp)\n",
    "    Kd = np.full(7, 1)\n",
    "    iiwa_controller = builder.AddSystem(InverseDynamicsController(plant, Kp, Ki, Kd, False))\n",
    "    iiwa_controller.set_name(\"iiwa_controller\");\n",
    "    #create feedback loop\n",
    "    #plant state output to controller input\n",
    "    #controller output to plant actuation input\n",
    "    builder.Connect(plant.get_state_output_port(iiwa_model),\n",
    "                    iiwa_controller.get_input_port_estimated_state())\n",
    "    builder.Connect(iiwa_controller.get_output_port_control(),\n",
    "                    plant.get_actuation_input_port())\n",
    "    \n",
    "    return iiwa_controller\n",
    "\n",
    "iiwa_controller = iiwa_controller(builder, plant)"
   ]
  },
  {
   "cell_type": "code",
   "execution_count": 6,
   "id": "3d376156",
   "metadata": {},
   "outputs": [],
   "source": [
    "def iiwa_position_set(builder, plant, iiwa_controller, position_vector):    \n",
    "    #create a diagram out of the wired systems\n",
    "    diagram = builder.Build()    \n",
    "    #extract context from the diagram\n",
    "    context = diagram.CreateDefaultContext()\n",
    "    #extract plant context from the full context\n",
    "    plant_context = plant.GetMyMutableContextFromRoot(context)\n",
    "    q0 = q0 = np.array(position_vector)\n",
    "    x0 = np.hstack((q0, 0*q0))\n",
    "    plant.SetPositions(plant_context, q0)\n",
    "    iiwa_controller.GetInputPort('desired_state').FixValue(iiwa_controller.GetMyMutableContextFromRoot(context), x0)\n",
    "    #plant.get_actuation_input_port().FixValue(plant_context, np.zeros(7))\n",
    "    return diagram,context\n",
    "\n",
    "diagram,context = iiwa_position_set(builder, plant, iiwa_controller, position_vector)"
   ]
  },
  {
   "cell_type": "code",
   "execution_count": 7,
   "id": "9ae254d0",
   "metadata": {},
   "outputs": [],
   "source": [
    "def iiwa_animate(visualizer,diagram, context):\n",
    "    simulator = Simulator(diagram, context)\n",
    "    simulator.set_target_realtime_rate(1.0)\n",
    "    visualizer.StartRecording()\n",
    "    simulator.AdvanceTo(20.0)\n",
    "    visualizer.StopRecording()\n",
    "    visualizer.PublishRecording()\n",
    "    \n",
    "iiwa_animate(visualizer,diagram, context)"
   ]
  },
  {
   "cell_type": "code",
   "execution_count": null,
   "id": "2ba3d0d1",
   "metadata": {},
   "outputs": [],
   "source": []
  }
 ],
 "metadata": {
  "kernelspec": {
   "display_name": "Python 3 (ipykernel)",
   "language": "python",
   "name": "python3"
  },
  "language_info": {
   "codemirror_mode": {
    "name": "ipython",
    "version": 3
   },
   "file_extension": ".py",
   "mimetype": "text/x-python",
   "name": "python",
   "nbconvert_exporter": "python",
   "pygments_lexer": "ipython3",
   "version": "3.8.10"
  }
 },
 "nbformat": 4,
 "nbformat_minor": 5
}
