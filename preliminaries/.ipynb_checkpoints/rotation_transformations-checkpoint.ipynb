{
 "cells": [
  {
   "cell_type": "code",
   "execution_count": 16,
   "id": "d9ec36e4",
   "metadata": {},
   "outputs": [],
   "source": [
    "import numpy as np\n",
    "np.set_printoptions(precision=4,suppress=True)\n",
    "class Rotations:\n",
    "    def __init__(self):\n",
    "        pass\n",
    "    #ZYZ\n",
    "    def eul2rot(self,phi,theta,psi):\n",
    "        c = np.cos\n",
    "        s = np.sin\n",
    "        phi = np.radians(phi)\n",
    "        theta = np.radians(theta)\n",
    "        psi = np.radians(psi)\n",
    "        D = np.array([[c(phi), -s(phi), 0], [s(phi), c(phi), 0], [0,0,1]])\n",
    "        #print(D)\n",
    "        C = np.array([ [c(theta), 0, s(theta)], [0,1,0],[-s(theta), 0, c(theta)]])\n",
    "        #print(C)\n",
    "        B = np.array([[c(psi), -s(psi), 0], [s(psi), c(psi), 0], [0,0,1]])\n",
    "        #print(B)\n",
    "        return D@C@B\n",
    "    \n",
    "    def rot2eul(self,R):\n",
    "        phi = np.arctan2(R[1,2],R[0,2])\n",
    "        theta = np.arctan2(np.sqrt(1-R[2,2]**2),R[2,2])\n",
    "        psi = np.arctan2(R[2,1],-R[2,0])\n",
    "        return np.degrees(phi), np.degrees(theta), np.degrees(psi)\n",
    "    \n",
    "    def rot2axang(self,R):\n",
    "        tr = np.trace(R)\n",
    "        th = np.arccos((tr-1)/2)\n",
    "        n = (1/2*s(th))* np.array([[R[2,1]-R[1,2]],[R[0,2]-R[2,0]],[R[1,0]-R[0,1]]])\n",
    "        return n,np.degrees(th)\n",
    "    \n",
    "    def axang2rot(self,n,th):\n",
    "        I = np.eye(3)\n",
    "        th = np.radians(th)\n",
    "        n_c = np.array([[0 , -n[2,0], n[1,0]],[n[2,0], 0, -n[0,0]], [-n[1,0], n[0,0], 0]])\n",
    "        R = I + s(th)*n_c + (1-c(th))*(n_c@n_c)\n",
    "        return R\n",
    "    \n",
    "aarm = Rotations()\n",
    "R = aarm.eul2rot(30,60,90)\n",
    "th,phi,psi = aarm.rot2eul(R)"
   ]
  },
  {
   "cell_type": "code",
   "execution_count": null,
   "id": "3f696133",
   "metadata": {},
   "outputs": [],
   "source": []
  },
  {
   "cell_type": "code",
   "execution_count": null,
   "id": "a2a0cb54",
   "metadata": {},
   "outputs": [],
   "source": []
  }
 ],
 "metadata": {
  "kernelspec": {
   "display_name": "Python 3 (ipykernel)",
   "language": "python",
   "name": "python3"
  },
  "language_info": {
   "codemirror_mode": {
    "name": "ipython",
    "version": 3
   },
   "file_extension": ".py",
   "mimetype": "text/x-python",
   "name": "python",
   "nbconvert_exporter": "python",
   "pygments_lexer": "ipython3",
   "version": "3.8.10"
  }
 },
 "nbformat": 4,
 "nbformat_minor": 5
}
